{
 "cells": [
  {
   "cell_type": "code",
   "execution_count": 142,
   "metadata": {
    "collapsed": true
   },
   "outputs": [],
   "source": [
    "''' \n",
    "    This code is developed for the Python workshop at the Winter School in Astronomy\n",
    "    \n",
    "    @Author : Sayantan Auddy\n",
    "    Created : 7 Feb 2017\n",
    "\n",
    "'''\n",
    "import numpy as np                        # Importing the numerical function numpy\n",
    "import matplotlib.pyplot as plt           # Importing the matplotlib for plotting\n",
    "\n",
    "# Scipy is scientific python \n",
    "from scipy.special import erfc"
   ]
  },
  {
   "cell_type": "code",
   "execution_count": 167,
   "metadata": {
    "scrolled": true
   },
   "outputs": [
    {
     "data": {
      "image/png": "[encoded data removed]",
      "text/plain": [
       "<matplotlib.figure.Figure at 0x10f417eb8>"
      ]
     },
     "metadata": {},
     "output_type": "display_data"
    }
   ],
   "source": [
    "# %matplotlib qt\n",
    "%matplotlib inline\n",
    "\n",
    "# read the data file in fp\n",
    "\n",
    "# fp = open (\"V4t_256_19.0.dat\",'r')\n",
    "fp = open (\"ONC.dat\",'r')\n",
    "# Declaring an empty list to store the data from the .dat file\n",
    "\n",
    "mass =[]\n",
    "\n",
    "# Reading the data from the .dat file line by line\n",
    "# please refer to the link for details  \n",
    "# http://stackoverflow.com/questions/4071396/split-by-comma-and-strip-whitespace-in-python\n",
    "\n",
    "for line in fp:\n",
    "    #print(line.strip().split())\n",
    "    #print(line.strip())\n",
    "    t = line.strip().split()\n",
    "    for value in t:\n",
    "        mass.append(float(value))         # the func append helps to modify the array storage on each iteration\n",
    "\n",
    "fp.close()                                # closing the file after it reads in the data *important \n",
    "mass_array = (np.asarray(mass))           # # to convert rho python list to numpy array list for easy manipulation\n",
    "\n",
    "# Visualisng the nature of the data by ploting a histogram\n",
    "\n",
    "binsize = 173                              # declaring the bin size for the histogram\n",
    "plt.hist(np.log10(mass_array),binsize,normed=1,facecolor='red',cumulative=False)     # Binning in log(m). \n",
    "# plt.xlim(min(np.log(mass_array))-0.5,max(np.log(mass_array))+0.5) # the limit of the x axis\n",
    "# plt.ylim(0,6000)                        # y axis limit\n",
    "plt.yscale('log')                         # log scale on the y axis\n",
    "plt.title (\"ONC mass densisty PDF\",fontsize=10)\n",
    "plt.xlabel(\"Log (mass)\")\n",
    "plt.ylabel(\"Frequency\")\n",
    "plt.show()"
   ]
  },
  {
   "cell_type": "code",
   "execution_count": 168,
   "metadata": {
    "scrolled": false
   },
   "outputs": [
    {
     "name": "stderr",
     "output_type": "stream",
     "text": [
      "/Users/Sayantan/anaconda/lib/python3.5/site-packages/ipykernel/__main__.py:10: RuntimeWarning: divide by zero encountered in log10\n"
     ]
    },
    {
     "data": {
      "text/plain": [
       "[<matplotlib.lines.Line2D at 0x10fd8dd68>]"
      ]
     },
     "execution_count": 168,
     "metadata": {},
     "output_type": "execute_result"
    },
    {
     "data": {
      "image/png": "[encoded data removed]",
      "text/plain": [
       "<matplotlib.figure.Figure at 0x10fd8dd30>"
      ]
     },
     "metadata": {},
     "output_type": "display_data"
    }
   ],
   "source": [
    "# To fit the histogram using the least square method\n",
    "# this gives the frequency and the edges of the bins\n",
    "\n",
    "# bincount,bin_edge = np.histogram(mass,binsize) # important to note we bin in dm\n",
    "bincount,bin_edge = np.histogram(np.log10(mass_array),binsize,normed=1) # important to note we bin in dlog(m)\n",
    "\n",
    "# bincenter is the value for the center of each bins\n",
    "bincenter = (bin_edge[1:]+bin_edge[:-1])/2.0\n",
    "xdata=bincenter[:]\n",
    "ydata=np.log10(bincount[:])\n",
    "# plt.ylim(10**-1,10**3)\n",
    "plt.ylabel('log (mf(m))')\n",
    "plt.xlabel('log(m)')\n",
    "plt.plot(xdata,ydata,'^',markersize=3)\n",
    "# plt.yscale('log')"
   ]
  },
  {
   "cell_type": "markdown",
   "metadata": {},
   "source": [
    "The objective is to fit a Fucntion to the above data set for analysing the slope of the power law tail. \n",
    "We shall try to fit MLP (Basu et al 2015)\n",
    "The MLP function is define as:\n",
    "\n",
    "f(m) = "
   ]
  },
  {
   "cell_type": "code",
   "execution_count": 169,
   "metadata": {
    "collapsed": true
   },
   "outputs": [],
   "source": [
    "# Declaring the MLP function as f(m)\n",
    "\n",
    "# def MLP(x,alpha,mu0,sigma0):\n",
    "def MLPMLEfit(params):\n",
    "    alpha,mu0,sigma0=params\n",
    "    x = mass_array\n",
    "    p1=(alpha/2.0)*np.exp(alpha*mu0+((alpha*sigma0)**2)/2.0)\n",
    "    p2=x**(-(1+alpha))\n",
    "    arg=(1.0/np.sqrt(2.0))*(alpha*sigma0-(np.log(x)-mu0)/sigma0)\n",
    "    p3=erfc(arg)\n",
    "    p = p1*p2*p3;\n",
    "    return sum(-np.log(p)) \n",
    "#     return(p)\n",
    "\n",
    "########################################################################\n",
    "\n",
    "def MLP(x,*params):\n",
    "    alpha,mu0,sigma0=params\n",
    "    p1=(alpha/2.0)*np.exp(alpha*mu0+((alpha*sigma0)**2)/2.0)\n",
    "    p2=x**(-(alpha))\n",
    "    arg=(1.0/np.sqrt(2.0))*(alpha*sigma0-(np.log(x)-mu0)/sigma0)\n",
    "    p3=erfc(arg)\n",
    "    p = np.log10(p1*p2*p3);\n",
    "#     return sum(-np.log(p)) \n",
    "    return(p)"
   ]
  },
  {
   "cell_type": "code",
   "execution_count": 221,
   "metadata": {},
   "outputs": [],
   "source": [
    "from scipy.optimize import curve_fit\n",
    "fitParams,fitCov=curve_fit(MLP,xdata,ydata,bounds=(-4, [3., -3., 1.]))\n",
    "print('alpha=%f\\n'%(fitParams[0]))\n",
    "print('mu_0=%f\\n'%(fitParams[1]))\n",
    "print('sigma_0=%f\\n'%(fitParams[2]))"
   ]
  },
  {
   "cell_type": "code",
   "execution_count": 170,
   "metadata": {
    "scrolled": false
   },
   "outputs": [
    {
     "name": "stderr",
     "output_type": "stream",
     "text": [
      "/Users/Sayantan/anaconda/lib/python3.5/site-packages/ipykernel/__main__.py:12: RuntimeWarning: divide by zero encountered in log\n"
     ]
    },
    {
     "name": "stdout",
     "output_type": "stream",
     "text": [
      "global minimum: x = [1.403, -2.084,0.348], f(x0) = -789.658\n",
      "\n",
      "alpha  = 1.403\n",
      "\n",
      "mu0    =-2.084\n",
      "\n",
      "sigma_0= 0.348\n",
      "\n"
     ]
    },
    {
     "name": "stderr",
     "output_type": "stream",
     "text": [
      "/Users/Sayantan/anaconda/lib/python3.5/site-packages/scipy/optimize/optimize.py:628: RuntimeWarning: invalid value encountered in double_scalars\n",
      "  grad[k] = (f(*((xk + d,) + args)) - f0) / d[k]\n"
     ]
    }
   ],
   "source": [
    "'''\n",
    "For optimization we shall use\n",
    "scipy.optimize.differential_evolution\n",
    "For detials: \n",
    "https://docs.scipy.org/doc/scipy-0.18.1/reference/generated/scipy.optimize.differential_evolution.html\n",
    "\n",
    "'''\n",
    "# We want to find the optimized value for the parameters alpha, mu0 and sigma0 for the best\n",
    "# fit MLP fucntion.\n",
    "\n",
    "from scipy.optimize import differential_evolution\n",
    "# defining the possible bounds for the values of alpha, mu0 and sigma0\n",
    "bounds = [(1, 5), (-3, 1),(0.01,2)]\n",
    "\n",
    "np.random.seed(1)\n",
    "result = differential_evolution(MLPMLEfit, bounds)\n",
    "# result.x, result.fun\n",
    "print(\"global minimum: x = [%.3f, %.3f,%.3f], f(x0) = %.3f\\n\" % (result.x[0], result.x[1],result.x[2],result.fun))\n",
    "print('alpha  = %.3f\\n'%(result.x[0]))\n",
    "print('mu0    =%.3f\\n'%(result.x[1]))\n",
    "print('sigma_0= %.3f\\n'%(result.x[2]))"
   ]
  },
  {
   "cell_type": "code",
   "execution_count": 171,
   "metadata": {
    "scrolled": false
   },
   "outputs": [
    {
     "name": "stderr",
     "output_type": "stream",
     "text": [
      "/Users/Sayantan/anaconda/lib/python3.5/site-packages/ipykernel/__main__.py:9: RuntimeWarning: divide by zero encountered in true_divide\n",
      "/Users/Sayantan/anaconda/lib/python3.5/site-packages/ipykernel/__main__.py:12: RuntimeWarning: divide by zero encountered in log\n",
      "/Users/Sayantan/anaconda/lib/python3.5/site-packages/scipy/optimize/optimize.py:628: RuntimeWarning: invalid value encountered in double_scalars\n",
      "  grad[k] = (f(*((xk + d,) + args)) - f0) / d[k]\n"
     ]
    },
    {
     "name": "stdout",
     "output_type": "stream",
     "text": [
      "global minimum: x = [1.421, -2.071,0.351], f(x0) = -790.021\n",
      "\n",
      "alpha  = 1.421\n",
      "\n",
      "mu0    =-2.071\n",
      "\n",
      "sigma_0= 0.351\n",
      "\n"
     ]
    }
   ],
   "source": [
    "'''\n",
    "For optimization we shall use\n",
    "scipy.optimize import basinhopping\n",
    "For detials: \n",
    "https://docs.scipy.org/doc/scipy-0.18.1/reference/generated/scipy.optimize.basinhopping.html\n",
    "\n",
    "'''\n",
    "from scipy.optimize import basinhopping\n",
    "\n",
    "# intial guess values of the parameter alpha, mu0, sigma0\n",
    "x0 = [3., 0.1,0.1]\n",
    "\n",
    "# defining the possible bounds for the values of alpha, mu0 and sigma0\n",
    "\n",
    "xmin = [1.,-3.,0.]          # lower bound\n",
    "xmax = [5.,1., 1.]          # upper bound\n",
    "\n",
    "# rewrite the bounds in the way required by L-BFGS-B\n",
    "bounds = [(low, high) for low, high in zip(xmin, xmax)]\n",
    "\n",
    "minimizer_kwargs = dict(method=\"L-BFGS-B\", bounds=bounds)\n",
    "\n",
    "ret = basinhopping(MLPMLEfit,x0,minimizer_kwargs=minimizer_kwargs,niter=200,disp=0,niter_success=None)\n",
    "\n",
    "print(\"global minimum: x = [%.3f, %.3f,%.3f], f(x0) = %.3f\\n\" % (ret.x[0], ret.x[1],ret.x[2],ret.fun))\n",
    "print('alpha  = %.3f\\n'%(ret.x[0]))\n",
    "print('mu0    =%.3f\\n'%(ret.x[1]))\n",
    "print('sigma_0= %.3f\\n'%(ret.x[2]))"
   ]
  },
  {
   "cell_type": "code",
   "execution_count": 173,
   "metadata": {
    "scrolled": true
   },
   "outputs": [
    {
     "data": {
      "image/png": "[encoded data removed]",
      "text/plain": [
       "<matplotlib.figure.Figure at 0x10eb241d0>"
      ]
     },
     "metadata": {},
     "output_type": "display_data"
    }
   ],
   "source": [
    "# Plotting the MLP with the best fit parameter along wiht the ONC data points\n",
    "\n",
    "# using the best fit parmameters from differential evolution optimisation\n",
    "# params = [result.x[0],result.x[1],result.x[2]]\n",
    "# using the best fit parameters from the basinhopping optimisation\n",
    "params_dff = [ret.x[0],ret.x[1],ret.x[2]]\n",
    "params_bh = result.x[0],result.x[1],result.x[2]\n",
    "xarray = np.logspace(-1.5,1.6,1000)\n",
    "plt.plot(xdata,ydata,'^',markersize=3)\n",
    "plt.plot(np.log10(xarray),MLP(xarray,*params_dff),'k',np.log10(xarray),MLP(xarray,*params_bh),'b--')\n",
    "# plt.yscale('log')\n",
    "# plt.xscale('log')\n",
    "plt.plot()\n",
    "plt.show()"
   ]
  },
  {
   "cell_type": "code",
   "execution_count": 97,
   "metadata": {},
   "outputs": [
    {
     "name": "stdout",
     "output_type": "stream",
     "text": [
      "[  0.89125094   1.29154967   1.87163959   2.71227258   3.93046963\n",
      "   5.69581081   8.25404185  11.96128333  17.33360473  25.11886432]\n"
     ]
    }
   ],
   "source": [
    "print(np.logspace(-.05,1.4,10))"
   ]
  },
  {
   "cell_type": "code",
   "execution_count": null,
   "metadata": {
    "collapsed": true
   },
   "outputs": [],
   "source": []
  }
 ],
 "metadata": {
  "anaconda-cloud": {},
  "kernelspec": {
   "display_name": "venv-1",
   "language": "python",
   "name": "venv-1"
  },
  "language_info": {
   "codemirror_mode": {
    "name": "ipython",
    "version": 3
   },
   "file_extension": ".py",
   "mimetype": "text/x-python",
   "name": "python",
   "nbconvert_exporter": "python",
   "pygments_lexer": "ipython3",
   "version": "3.8.6"
  }
 },
 "nbformat": 4,
 "nbformat_minor": 1
}
